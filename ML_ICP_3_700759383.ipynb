{
  "cells": [
    {
      "cell_type": "markdown",
      "metadata": {
        "id": "view-in-github",
        "colab_type": "text"
      },
      "source": [
        "<a href=\"https://colab.research.google.com/github/Vnimmadala7/ICP3_700759383/blob/main/ML_ICP_3_700759383.ipynb\" target=\"_parent\"><img src=\"https://colab.research.google.com/assets/colab-badge.svg\" alt=\"Open In Colab\"/></a>"
      ]
    },
    {
      "cell_type": "code",
      "execution_count": null,
      "id": "db4ae4de",
      "metadata": {
        "id": "db4ae4de",
        "outputId": "bee9c553-5028-4716-99b3-906ec617abb4"
      },
      "outputs": [
        {
          "name": "stdout",
          "output_type": "stream",
          "text": [
            "[ 6  2 17  5  3  6 13 13  5  8 17 19  7 17  9]\n"
          ]
        }
      ],
      "source": [
        "#1. Numpy:\n",
        "# Using NumPy create random vector of size 15 having only Integers in the range 1-20.\n",
        "import numpy as np\n",
        "x = np.random.randint(1,20, size = 15)\n",
        "print (x)"
      ]
    },
    {
      "cell_type": "code",
      "execution_count": null,
      "id": "c11fd21a",
      "metadata": {
        "id": "c11fd21a",
        "outputId": "270876b6-7850-4c7e-ec0d-e27750adadc5"
      },
      "outputs": [
        {
          "name": "stdout",
          "output_type": "stream",
          "text": [
            "[[ 6  2 17  5  3]\n",
            " [ 6 13 13  5  8]\n",
            " [17 19  7 17  9]]\n"
          ]
        }
      ],
      "source": [
        "# 1. Reshape the array to 3 by 5\n",
        "y=x.reshape(3,5)\n",
        "print(y)\n"
      ]
    },
    {
      "cell_type": "code",
      "execution_count": null,
      "id": "8d6f20e8",
      "metadata": {
        "id": "8d6f20e8",
        "outputId": "553b9ae1-3197-415e-f55e-0d22bd8db70b"
      },
      "outputs": [
        {
          "name": "stdout",
          "output_type": "stream",
          "text": [
            "array is : [[ 6  2 17  5  3]\n",
            " [ 6 13 13  5  8]\n",
            " [17 19  7 17  9]]\n",
            "array shape is: (3, 5)\n"
          ]
        }
      ],
      "source": [
        "# 2. Print array shape.\n",
        "print(\"array is :\",y)\n",
        "print (\"array shape is:\",y.shape)\n"
      ]
    },
    {
      "cell_type": "code",
      "execution_count": null,
      "id": "b9d57a88",
      "metadata": {
        "id": "b9d57a88",
        "outputId": "96341872-aee4-486c-979b-ea5d83b636bb"
      },
      "outputs": [
        {
          "name": "stdout",
          "output_type": "stream",
          "text": [
            "[[ 6  2  0  5  3]\n",
            " [ 6  0  0  5  8]\n",
            " [17  0  7 17  9]]\n"
          ]
        }
      ],
      "source": [
        "# 3. Replace the max in each row by 0\n",
        "new_a = np.where(y == [\n",
        "    [i]\n",
        "    for i in np.amax(y, axis = 1)\n",
        "], 0, y)\n",
        "\n",
        "print(new_a)"
      ]
    },
    {
      "cell_type": "code",
      "execution_count": null,
      "id": "61c6b4b7",
      "metadata": {
        "id": "61c6b4b7",
        "outputId": "89c6268a-81b5-46aa-a243-61001f741f87"
      },
      "outputs": [
        {
          "name": "stdout",
          "output_type": "stream",
          "text": [
            "Array shape: (4, 3)\n",
            "Array type: <class 'numpy.ndarray'>\n",
            "Array data type: int32\n"
          ]
        }
      ],
      "source": [
        "# Create a 2-dimensional array of size 4 x 3 (composed of 4-byte integer elements), also print the shape, type and data type\n",
        "#of the array.\n",
        "import numpy as np\n",
        "\n",
        "# create a 2-dimensional array of size 4x3\n",
        "arr = np.array([[1, 2, 3], [4, 5, 6], [7, 8, 9], [10, 11, 12]], dtype=np.int32)\n",
        "\n",
        "# print the array shape\n",
        "print(\"Array shape:\", arr.shape)\n",
        "\n",
        "# print the array type\n",
        "print(\"Array type:\", type(arr))\n",
        "\n",
        "# print the array data type\n",
        "print(\"Array data type:\", arr.dtype)\n"
      ]
    },
    {
      "cell_type": "code",
      "execution_count": null,
      "id": "37852d2d",
      "metadata": {
        "id": "37852d2d",
        "outputId": "f1b9ef92-f497-4d80-da83-ca66609f9abb"
      },
      "outputs": [
        {
          "name": "stdout",
          "output_type": "stream",
          "text": [
            "Eigenvalues: [2. 1.]\n",
            "Right eigenvectors:\n",
            "[[0.89442719 0.70710678]\n",
            " [0.4472136  0.70710678]]\n"
          ]
        }
      ],
      "source": [
        "#1(b) Write a program to compute the eigenvalues and right eigenvectors\n",
        "import numpy as np\n",
        "\n",
        "# define the square array\n",
        "A = np.array([[3, -2], [1, 0]])\n",
        "\n",
        "# compute the eigenvalues and right eigenvectors\n",
        "eigenvalues, eigenvectors = np.linalg.eig(A)\n",
        "\n",
        "# print the eigenvalues and right eigenvectors\n",
        "print(\"Eigenvalues:\", eigenvalues)\n",
        "print(\"Right eigenvectors:\")\n",
        "print(eigenvectors)\n"
      ]
    },
    {
      "cell_type": "code",
      "execution_count": null,
      "id": "86b8a7cd",
      "metadata": {
        "id": "86b8a7cd",
        "outputId": "3d8d1f74-96f6-4695-a2e9-270c9e7536a8"
      },
      "outputs": [
        {
          "name": "stdout",
          "output_type": "stream",
          "text": [
            "Sum of diagonal elements: 4\n"
          ]
        }
      ],
      "source": [
        "#1(c)Compute the sum of the diagonal element of a given array.\n",
        "import numpy as np\n",
        "\n",
        "# define the array\n",
        "A = np.array([[0, 1, 2], [3, 4, 5]])\n",
        "\n",
        "# compute the sum of the diagonal elements\n",
        "diagonal_sum = np.trace(A)\n",
        "\n",
        "# print the sum of the diagonal elements\n",
        "print(\"Sum of diagonal elements:\", diagonal_sum)\n"
      ]
    },
    {
      "cell_type": "code",
      "execution_count": null,
      "id": "e8ab3b32",
      "metadata": {
        "id": "e8ab3b32",
        "outputId": "0bd98df2-add0-480a-d060-8f8b22af5ea4"
      },
      "outputs": [
        {
          "name": "stdout",
          "output_type": "stream",
          "text": [
            "Reshaped to 3x2:\n",
            " [[1 2]\n",
            " [3 4]\n",
            " [5 6]]\n",
            "Reshaped to 2x3:\n",
            " [[1 2 3]\n",
            " [4 5 6]]\n"
          ]
        }
      ],
      "source": [
        "#1(d)Write a NumPy program to create a new shape to an array without changing its data.\n",
        "import numpy as np\n",
        "\n",
        "# define the original array\n",
        "arr = np.array([[1, 2], [3, 4], [5, 6]])\n",
        "\n",
        "# reshape to 3x2\n",
        "arr_3x2 = arr.reshape(3, 2)\n",
        "\n",
        "# reshape to 2x3\n",
        "arr_2x3 = arr.reshape(2, 3)\n",
        "\n",
        "print(\"Reshaped to 3x2:\\n\", arr_3x2)\n",
        "print(\"Reshaped to 2x3:\\n\", arr_2x3)\n"
      ]
    },
    {
      "cell_type": "code",
      "execution_count": null,
      "id": "b8c3931b",
      "metadata": {
        "id": "b8c3931b"
      },
      "outputs": [],
      "source": []
    }
  ],
  "metadata": {
    "kernelspec": {
      "display_name": "Python 3 (ipykernel)",
      "language": "python",
      "name": "python3"
    },
    "language_info": {
      "codemirror_mode": {
        "name": "ipython",
        "version": 3
      },
      "file_extension": ".py",
      "mimetype": "text/x-python",
      "name": "python",
      "nbconvert_exporter": "python",
      "pygments_lexer": "ipython3",
      "version": "3.11.1"
    },
    "colab": {
      "provenance": [],
      "include_colab_link": true
    }
  },
  "nbformat": 4,
  "nbformat_minor": 5
}